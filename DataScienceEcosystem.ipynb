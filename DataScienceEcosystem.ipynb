{
  "nbformat": 4,
  "nbformat_minor": 0,
  "metadata": {
    "colab": {
      "provenance": [],
      "authorship_tag": "ABX9TyM8+NXRDpDjmUi8OfbtdkVj",
      "include_colab_link": true
    },
    "kernelspec": {
      "name": "python3",
      "display_name": "Python 3"
    },
    "language_info": {
      "name": "python"
    }
  },
  "cells": [
    {
      "cell_type": "markdown",
      "metadata": {
        "id": "view-in-github",
        "colab_type": "text"
      },
      "source": [
        "<a href=\"https://colab.research.google.com/github/joseeloren/ibm-tools-coursera/blob/main/DataScienceEcosystem.ipynb\" target=\"_parent\"><img src=\"https://colab.research.google.com/assets/colab-badge.svg\" alt=\"Open In Colab\"/></a>"
      ]
    },
    {
      "cell_type": "markdown",
      "source": [
        "# Data Science Tools and Ecosystem"
      ],
      "metadata": {
        "id": "FN2z_MvsTX0P"
      }
    },
    {
      "cell_type": "markdown",
      "source": [
        "In this notebook, Data Science Tools and Ecosystem are summarized."
      ],
      "metadata": {
        "id": "qoNVija-TyzL"
      }
    },
    {
      "cell_type": "markdown",
      "source": [
        "**Objectives:**\n",
        "\n",
        "\n",
        "*   Use of markdown\n",
        "*   Use of different types of titles\n",
        "*   Run code on Jupyter notebooks\n",
        "\n"
      ],
      "metadata": {
        "id": "6Wh6oiAqg10i"
      }
    },
    {
      "cell_type": "markdown",
      "source": [
        "Some of the popular languages that Data Scientists use are:\n",
        "\n",
        "\n",
        "1.   R\n",
        "2.   Python\n",
        "3.   Julia\n",
        "\n"
      ],
      "metadata": {
        "id": "d21zpfghT58S"
      }
    },
    {
      "cell_type": "markdown",
      "source": [
        "Some of the commonly used libraries used by Data Scientists include:\n",
        "\n",
        "\n",
        "1.   ggplot\n",
        "2.   PyTorch\n",
        "3.   pandas\n",
        "\n"
      ],
      "metadata": {
        "id": "419DzQrEUHC4"
      }
    },
    {
      "cell_type": "markdown",
      "source": [
        "| Data Science Tools |\n",
        "| --- |\n",
        "| Jupiter Notebook |\n",
        "| RStudio |\n",
        "| VSCode |\n"
      ],
      "metadata": {
        "id": "T30x4lXrUxVQ"
      }
    },
    {
      "cell_type": "markdown",
      "source": [
        "### Below are a few examples of evaluating arithmetic expressions in Python"
      ],
      "metadata": {
        "id": "1dFLI0IbVgpz"
      }
    },
    {
      "cell_type": "code",
      "source": [
        "#This a simple arithmetic expression to mutiply then add integers\n",
        "(3*4)+5"
      ],
      "metadata": {
        "colab": {
          "base_uri": "https://localhost:8080/"
        },
        "id": "REIM1kGNVs0t",
        "outputId": "d7856578-1508-4ff3-ee15-d346828c85de"
      },
      "execution_count": null,
      "outputs": [
        {
          "output_type": "execute_result",
          "data": {
            "text/plain": [
              "17"
            ]
          },
          "metadata": {},
          "execution_count": 1
        }
      ]
    },
    {
      "cell_type": "code",
      "source": [
        "#This will convert 200 minutes to hours by diving by 60\n",
        "minutes = 200 #minutes\n",
        "hours = minutes / 60\n",
        "print(\"This code will convert\", str(minutes), \"minutes to hours by diving by 60. Result =\", str(round(hours,2)), \"hours\")"
      ],
      "metadata": {
        "colab": {
          "base_uri": "https://localhost:8080/"
        },
        "id": "976IKQQoZcnv",
        "outputId": "068d306b-8fc8-4974-f85e-bfb85ecd16de"
      },
      "execution_count": null,
      "outputs": [
        {
          "output_type": "stream",
          "name": "stdout",
          "text": [
            "This code will convert 200 minutes to hours by diving by 60. Result = 3.33 hours\n"
          ]
        }
      ]
    },
    {
      "cell_type": "markdown",
      "source": [
        "## Author\n",
        "Jose Francisco Lorenzo Hernandez\n"
      ],
      "metadata": {
        "id": "wyXO94mbHczF"
      }
    }
  ]
}